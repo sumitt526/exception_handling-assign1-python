{
 "cells": [
  {
   "cell_type": "markdown",
   "id": "bf2e2d33-9139-47c0-b476-d0ca3b0c5580",
   "metadata": {},
   "source": [
    "Qsn 1 solution:-\n",
    "\n",
    "exception also known as runtime error is an event in python that occurs during the execution of the program which interrupts the normal flow of the program instructions.\n",
    "an exception in python basically represents the error that occurs during the execution of program.\n",
    "generally when python script cannot handle a situtaion it raises an exception.\n",
    "\n",
    "The difference between exception and syntax error is that as the name indicate \"syntax errors\" are the errors which are caused by the wrong syntax in code such as misspelled keyword, missing colon or an unbalanced paranthesis which leads to the termination of the program whereas,\n",
    "\"exception\" is raised when the program is syntactically correct but the code results an error however, this does not stops the execution of the program but changes the normal flow of the program.\n",
    "\n",
    "\n",
    "\n"
   ]
  },
  {
   "cell_type": "code",
   "execution_count": null,
   "id": "78a0ecc4-b596-42a4-ba01-9bc0ccb9698d",
   "metadata": {},
   "outputs": [],
   "source": []
  },
  {
   "cell_type": "markdown",
   "id": "fa69ce9f-98f0-4bc3-b1d1-71d7166833a7",
   "metadata": {},
   "source": [
    "Qsn 2 solution:-\n",
    "\n",
    "when an exception is not handled it raises an error and interrupts the normal flow of the program instructions but does not stops the execution of the program.\n",
    "\n",
    "for example:-"
   ]
  },
  {
   "cell_type": "code",
   "execution_count": 28,
   "id": "9c6e8e9e-8d6f-4f9b-ba94-fcf406817c81",
   "metadata": {},
   "outputs": [
    {
     "ename": "ZeroDivisionError",
     "evalue": "division by zero",
     "output_type": "error",
     "traceback": [
      "\u001b[0;31m---------------------------------------------------------------------------\u001b[0m",
      "\u001b[0;31mZeroDivisionError\u001b[0m                         Traceback (most recent call last)",
      "Cell \u001b[0;32mIn[28], line 2\u001b[0m\n\u001b[1;32m      1\u001b[0m num \u001b[38;5;241m=\u001b[39m \u001b[38;5;241m500\u001b[39m\n\u001b[0;32m----> 2\u001b[0m a \u001b[38;5;241m=\u001b[39m \u001b[38;5;241;43m500\u001b[39;49m\u001b[38;5;241;43m/\u001b[39;49m\u001b[38;5;241;43m0\u001b[39;49m\n\u001b[1;32m      3\u001b[0m \u001b[38;5;28mprint\u001b[39m(a)\n",
      "\u001b[0;31mZeroDivisionError\u001b[0m: division by zero"
     ]
    }
   ],
   "source": [
    "num = 500\n",
    "a = 500/0\n",
    "print(a)"
   ]
  },
  {
   "cell_type": "markdown",
   "id": "0f9979b5-dd2c-4331-8d64-0373b4bf46da",
   "metadata": {},
   "source": [
    "So, as we can see in the above example the program is syntactically right but the code raised an error this is known as exception however,\n",
    "it does not stops the execution of the program."
   ]
  },
  {
   "cell_type": "code",
   "execution_count": null,
   "id": "694bca8e-fc54-4820-ad5d-6a527453c5ff",
   "metadata": {},
   "outputs": [],
   "source": []
  },
  {
   "cell_type": "markdown",
   "id": "7aca1d04-7f71-4c62-8164-0b5e828616c6",
   "metadata": {},
   "source": [
    "Qsn 3 solution:-\n",
    "\n",
    "\"try\" and \"except\" are the two statements that are used to catch and handle exception in python.\n",
    "\n",
    "for example:-"
   ]
  },
  {
   "cell_type": "code",
   "execution_count": 29,
   "id": "b87cc543-537a-4659-ba63-ab65a1c2e9a3",
   "metadata": {},
   "outputs": [
    {
     "ename": "ZeroDivisionError",
     "evalue": "division by zero",
     "output_type": "error",
     "traceback": [
      "\u001b[0;31m---------------------------------------------------------------------------\u001b[0m",
      "\u001b[0;31mZeroDivisionError\u001b[0m                         Traceback (most recent call last)",
      "Cell \u001b[0;32mIn[29], line 2\u001b[0m\n\u001b[1;32m      1\u001b[0m num \u001b[38;5;241m=\u001b[39m \u001b[38;5;241m500\u001b[39m\n\u001b[0;32m----> 2\u001b[0m a \u001b[38;5;241m=\u001b[39m \u001b[38;5;241;43m500\u001b[39;49m\u001b[38;5;241;43m/\u001b[39;49m\u001b[38;5;241;43m0\u001b[39;49m\n\u001b[1;32m      3\u001b[0m \u001b[38;5;28mprint\u001b[39m(a)\n",
      "\u001b[0;31mZeroDivisionError\u001b[0m: division by zero"
     ]
    }
   ],
   "source": [
    "num = 500\n",
    "a = 500/0\n",
    "print(a)"
   ]
  },
  {
   "cell_type": "markdown",
   "id": "58010262-a373-44eb-b46c-cfbc572f6684",
   "metadata": {},
   "source": [
    "without try and except it raised an error, now let's try same with try and except:-"
   ]
  },
  {
   "cell_type": "code",
   "execution_count": 30,
   "id": "900ea0d8-bd8f-4a10-b138-5a7a28ace834",
   "metadata": {},
   "outputs": [
    {
     "name": "stdout",
     "output_type": "stream",
     "text": [
      "this is my zero division error which i am trying to handle:-  division by zero\n"
     ]
    }
   ],
   "source": [
    "try:\n",
    "    num = 500\n",
    "    a = 500/0\n",
    "    print(a)\n",
    "except ZeroDivisionError as e:\n",
    "    print(\"this is my zero division error which i am trying to handle:- \",e)"
   ]
  },
  {
   "cell_type": "code",
   "execution_count": 31,
   "id": "988e3d29-1232-4f06-b9ad-6329a4a8fcfe",
   "metadata": {},
   "outputs": [],
   "source": [
    "# SEE HOW THE TRY AND EXCEPT BLOCK HANDLED THE ERROR"
   ]
  },
  {
   "cell_type": "code",
   "execution_count": null,
   "id": "899d5e99-a31c-4966-aff0-a28434d64712",
   "metadata": {},
   "outputs": [],
   "source": []
  },
  {
   "cell_type": "markdown",
   "id": "123d074e-452e-4262-b224-ae4cd6f7b3f5",
   "metadata": {},
   "source": [
    "Qsn 4 solution:-\n",
    "\n",
    "a) try and else:- try can be used with else block also, if the code in the try block executes itself completely without raising an error\n",
    "then only the else block will execute otherwise not.\n",
    "\n",
    "for example:-"
   ]
  },
  {
   "cell_type": "code",
   "execution_count": 32,
   "id": "bd5a19cf-94f9-47c8-94de-787b40c0c5da",
   "metadata": {},
   "outputs": [
    {
     "name": "stdout",
     "output_type": "stream",
     "text": [
      "i will execute only if try block is executed without an error\n"
     ]
    }
   ],
   "source": [
    "try:\n",
    "    f = open(\"test.txt\", \"w\")\n",
    "    f.write(\"it runs perfectly\")\n",
    "except:\n",
    "    print(\"i will execute only if try block raise an error\")\n",
    "else:\n",
    "    print(\"i will execute only if try block is executed without an error\")"
   ]
  },
  {
   "cell_type": "code",
   "execution_count": null,
   "id": "89f5e198-c1c8-4200-926c-565325fee561",
   "metadata": {},
   "outputs": [],
   "source": []
  },
  {
   "cell_type": "markdown",
   "id": "c9f73757-2e94-44a1-b5fa-cec02ef50f11",
   "metadata": {},
   "source": [
    "Qsn 4 solution:-\n",
    "\n",
    "b) finally :- finally is used when we want to execute the line of code irrespective of try block raising an error or not.\n",
    "\n",
    "for example:-\n"
   ]
  },
  {
   "cell_type": "code",
   "execution_count": 33,
   "id": "f67939fa-5756-4e3f-b6e8-9e733ae6192c",
   "metadata": {},
   "outputs": [
    {
     "name": "stdout",
     "output_type": "stream",
     "text": [
      "i will execute only if try block is executed without an error\n",
      "i will execute no matter if the try block raise an error or not\n"
     ]
    }
   ],
   "source": [
    "try:\n",
    "    f = open(\"test.txt\", \"w\")\n",
    "    f.write(\"it runs perfectly\")\n",
    "except:\n",
    "    print(\"i will execute only if try block raise an error\")\n",
    "else:\n",
    "    print(\"i will execute only if try block is executed without an error\")\n",
    "finally:\n",
    "    f.close()\n",
    "    print(\"i will execute no matter if the try block raise an error or not\")"
   ]
  },
  {
   "cell_type": "code",
   "execution_count": null,
   "id": "558c4cb6-d0a0-4368-b5cc-d8df663cee40",
   "metadata": {},
   "outputs": [],
   "source": []
  },
  {
   "cell_type": "markdown",
   "id": "079570c6-6425-443d-a844-6419faf5e41d",
   "metadata": {},
   "source": [
    "Qsn 4 solution:-\n",
    "\n",
    "c) raise:- raise is a keyword used when we want to handle a custom exception.\n",
    "\n",
    "for example:-"
   ]
  },
  {
   "cell_type": "code",
   "execution_count": 34,
   "id": "6a31bd09-8d8c-482a-96cb-ece5db0c20dc",
   "metadata": {},
   "outputs": [],
   "source": [
    "class get_validity(Exception):\n",
    "    \n",
    "    def __init__(self, msg):\n",
    "        self.msg = msg"
   ]
  },
  {
   "cell_type": "code",
   "execution_count": 35,
   "id": "eecf2e3c-4d11-480a-a8e1-f7fce5cda1ee",
   "metadata": {},
   "outputs": [],
   "source": [
    "def check_validity(year):\n",
    "    \n",
    "    if year <= 1999:\n",
    "        raise get_validity(\"entered year is invalid\")\n",
    "    elif year > 2030:\n",
    "        raise get_validity(\"entered year invalid\")\n",
    "    else:\n",
    "        print(\"entered year is valid\")"
   ]
  },
  {
   "cell_type": "code",
   "execution_count": 37,
   "id": "c79cc1eb-d68b-4ba1-9ddb-37765b4c6d4d",
   "metadata": {},
   "outputs": [
    {
     "name": "stdin",
     "output_type": "stream",
     "text": [
      "enter ur year 2023\n"
     ]
    },
    {
     "name": "stdout",
     "output_type": "stream",
     "text": [
      "entered year is valid\n"
     ]
    }
   ],
   "source": [
    "try:\n",
    "    year = int(input(\"enter ur year\"))\n",
    "    check_validity(year)\n",
    "except get_validity as e:\n",
    "    print(e)"
   ]
  },
  {
   "cell_type": "code",
   "execution_count": null,
   "id": "3ab973bf-1539-4a78-aad7-880cd36b857d",
   "metadata": {},
   "outputs": [],
   "source": []
  },
  {
   "cell_type": "markdown",
   "id": "85eb282a-eca8-4976-9af5-e4f216075d92",
   "metadata": {},
   "source": [
    "Qsn 5 solution:-\n",
    "\n",
    "custom exception in python are the user defined exceptions. custom exceptions are needed in python to raise an exception as per the user requirement or user defined.\n",
    "\n",
    "for example:-"
   ]
  },
  {
   "cell_type": "code",
   "execution_count": 38,
   "id": "88b43337-742f-41af-b9ba-4021ab2357d8",
   "metadata": {},
   "outputs": [
    {
     "name": "stdin",
     "output_type": "stream",
     "text": [
      "enter ur age -30\n"
     ]
    },
    {
     "name": "stdout",
     "output_type": "stream",
     "text": [
      "-30\n"
     ]
    }
   ],
   "source": [
    "age = int(input(\"enter ur age\"))\n",
    "print(age)"
   ]
  },
  {
   "cell_type": "markdown",
   "id": "7c7e56a3-b2bd-47de-af5d-51531df8c4a9",
   "metadata": {},
   "source": [
    "so here we can see that according to python the input and age is not wrong but we know that age can't be negative and here the python is not raising an error or exception therefore for this we need to use custom handling concept to handle such issues.\n",
    "\n",
    "now let's solve above issue with custom exception to make it more clear for you:-"
   ]
  },
  {
   "cell_type": "code",
   "execution_count": 39,
   "id": "4436cd2c-a974-420e-b6d6-f67de0727155",
   "metadata": {},
   "outputs": [],
   "source": [
    "class age_checker(Exception):\n",
    "    \n",
    "    def __init__(self, msg):\n",
    "        self.msg = msg"
   ]
  },
  {
   "cell_type": "code",
   "execution_count": 40,
   "id": "dcadefc8-2f18-4793-93d9-2c34204e2079",
   "metadata": {},
   "outputs": [],
   "source": [
    "def validage(age):\n",
    "    if age <= 0:\n",
    "        raise age_checker(\"entered age is not valid, please try again\")\n",
    "    elif age >= 200:\n",
    "        raise age_checker(\"you seems to be some another species, try again and be human\")\n",
    "    else:\n",
    "        print(\"yeahh, the age is valid, u can proceed further\")"
   ]
  },
  {
   "cell_type": "code",
   "execution_count": 44,
   "id": "e9eb92b9-fefa-4d00-9b4e-7295d671a591",
   "metadata": {},
   "outputs": [
    {
     "name": "stdin",
     "output_type": "stream",
     "text": [
      "enter ur age 300\n"
     ]
    },
    {
     "name": "stdout",
     "output_type": "stream",
     "text": [
      "you seems to be some another species, try again and be human\n"
     ]
    }
   ],
   "source": [
    "try:\n",
    "    age = int(input(\"enter ur age\"))\n",
    "    validage(age)\n",
    "except age_checker as e:\n",
    "    print(e)"
   ]
  },
  {
   "cell_type": "code",
   "execution_count": null,
   "id": "0a910f14-e536-4f80-90af-5f25aedebf7c",
   "metadata": {},
   "outputs": [],
   "source": []
  },
  {
   "cell_type": "code",
   "execution_count": 45,
   "id": "c5318350-6f31-41ef-b447-2dddccbe34ab",
   "metadata": {},
   "outputs": [],
   "source": [
    "# Qsn 6 solution:-\n",
    "\n",
    "class birth_date_validator(Exception):\n",
    "    \n",
    "    def __init__(self, msg):\n",
    "        self.msg = msg"
   ]
  },
  {
   "cell_type": "code",
   "execution_count": 46,
   "id": "27a18e83-22dd-49e5-bdc9-76337b4c5637",
   "metadata": {},
   "outputs": [],
   "source": [
    "def birth_date(DOB):\n",
    "    if DOB <= 0 :\n",
    "        raise birth_date_validator(\"ohh uh are born negatively, maybe u should born again\")\n",
    "    elif DOB >= 31:\n",
    "        raise birth_date_validator(\"oops, seems like u are from some another planet\")\n",
    "    else:\n",
    "        print(\"valid\")"
   ]
  },
  {
   "cell_type": "code",
   "execution_count": 49,
   "id": "6b672f67-43c5-4ed3-8d9b-a633df0974a7",
   "metadata": {},
   "outputs": [
    {
     "name": "stdin",
     "output_type": "stream",
     "text": [
      "enter only date on which u were born -30\n"
     ]
    },
    {
     "name": "stdout",
     "output_type": "stream",
     "text": [
      "ohh uh are born negatively, maybe u should born again\n"
     ]
    }
   ],
   "source": [
    "try:\n",
    "    DOB = int(input(\"enter only date on which u were born\"))\n",
    "    birth_date(DOB)\n",
    "except birth_date_validator as f:\n",
    "    print(f)"
   ]
  },
  {
   "cell_type": "code",
   "execution_count": null,
   "id": "c8b57e6e-4f00-4f4e-9482-81ba2c9b826d",
   "metadata": {},
   "outputs": [],
   "source": []
  }
 ],
 "metadata": {
  "kernelspec": {
   "display_name": "Python 3 (ipykernel)",
   "language": "python",
   "name": "python3"
  },
  "language_info": {
   "codemirror_mode": {
    "name": "ipython",
    "version": 3
   },
   "file_extension": ".py",
   "mimetype": "text/x-python",
   "name": "python",
   "nbconvert_exporter": "python",
   "pygments_lexer": "ipython3",
   "version": "3.10.8"
  }
 },
 "nbformat": 4,
 "nbformat_minor": 5
}
